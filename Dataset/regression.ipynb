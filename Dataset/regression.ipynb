{
 "cells": [
  {
   "cell_type": "code",
   "execution_count": 31,
   "id": "562f9180-30b1-4e3b-a641-2b64436f2093",
   "metadata": {},
   "outputs": [
    {
     "name": "stdout",
     "output_type": "stream",
     "text": [
      "[0.40740345 0.33632661 0.37940252 0.31040825 0.3876365  0.41135903\n",
      " 0.4162055  0.39773299 0.53831873 0.42989877 0.38976128 0.4280309\n",
      " 0.489342   0.32474715 0.41736283 0.36545205 0.44155609 0.40631313\n",
      " 0.44406643 0.29208915 0.52958521 0.4486643  0.51632153 0.52104173\n",
      " 0.32491442 0.30534683 0.36549297 0.36005395 0.50474653 0.37417251\n",
      " 0.41167468 0.57232312 0.41304258 0.36193013 0.31147966 0.29923357\n",
      " 0.50447661 0.31988792 0.41236557 0.32846979 0.33434853 0.47867178\n",
      " 0.51300361 0.29411435 0.3025445  0.43593262 0.32412995 0.31582265\n",
      " 0.40018665 0.38716802 0.37844872 0.30629677 0.45995867 0.47297813\n",
      " 0.32497585 0.44694627 0.36630635 0.31324837 0.5383431  0.40037745\n",
      " 0.41048922 0.49983597 0.52906532 0.37181405 0.28878959 0.42221407\n",
      " 0.33729398 0.38112743 0.33601492 0.38410657 0.34874861 0.42688662\n",
      " 0.46291205 0.36585579 0.29666017 0.51519692 0.33887659 0.52320082\n",
      " 0.54183821 0.3312421  0.40581931 0.40667121 0.37917048 0.3998313\n",
      " 0.29438078 0.42773127 0.55413124 0.51033929 0.39052889 0.36315756\n",
      " 0.41952942 0.33045273 0.3146594  0.37876073 0.27112381 0.46343017\n",
      " 0.38656047 0.38743294 0.31722721 0.33052321 0.48326898 0.46083127\n",
      " 0.42519827 0.40820716 0.3969566  0.47949512 0.50464726 0.42209897\n",
      " 0.41410398 0.38911749 0.3807248  0.38706114 0.43175468 0.37375218\n",
      " 0.40346655 0.33370455 0.53440351 0.28356507 0.40002829 0.30280643\n",
      " 0.44384864 0.30688015 0.32379268 0.32488139 0.29405953 0.31625044\n",
      " 0.31713882 0.31100522 0.35721238 0.49022228 0.25941834 0.44263625\n",
      " 0.44511493 0.40809268 0.30285642 0.36888966 0.31189752 0.3925742\n",
      " 0.29800138 0.34759353 0.52456771 0.45386265 0.48263582 0.32676671\n",
      " 0.33202309 0.32831833 0.37324559 0.48903935 0.38483959 0.36422854\n",
      " 0.44435382 0.396191   0.39818364 0.315055  ]\n"
     ]
    }
   ],
   "source": [
    "import pandas as pd\n",
    "import numpy as np\n",
    "from sklearn.model_selection import train_test_split\n",
    "from sklearn.svm import SVR\n",
    "from sklearn.metrics import mean_absolute_error\n",
    "from sklearn.metrics import mean_squared_error\n",
    "from sklearn.metrics import r2_score\n",
    "\n",
    "\n",
    "diabet = pd.read_csv(r\"C:\\Users\\aamir\\Downloads\\diabetes.csv\", sep=',', header=None)\n",
    "\n",
    "X = diabet.iloc[:,:6].values\n",
    "Y = diabet.iloc[:,6].values\n",
    "\n",
    "X_train, X_test, y_train, y_test = train_test_split(X,Y, test_size=0.2, random_state=100)\n",
    "\n",
    "svr=SVR()\n",
    "svr.fit(X_train, y_train)\n",
    "y_predict=svr.predict(X_test)\n",
    "print(y_predict)"
   ]
  },
  {
   "cell_type": "code",
   "execution_count": 35,
   "id": "80335838-4e60-4901-a86a-0b12536c62f1",
   "metadata": {},
   "outputs": [
    {
     "name": "stdout",
     "output_type": "stream",
     "text": [
      "Mean Absolute Error: 0.22\n",
      "Mean Squared Error: 0.09\n",
      "Root Mean Squared Error: 0.31\n",
      "R-squared: -0.04\n"
     ]
    }
   ],
   "source": [
    "mae=mean_absolute_error(y_test,y_predict)\n",
    "print(f\"Mean Absolute Error: {mae:.2f}\")\n",
    "mse=mean_squared_error(y_test,y_predict)\n",
    "rmse=np.sqrt(mse)\n",
    "print(f\"Mean Squared Error: {mse:.2f}\")\n",
    "print(f\"Root Mean Squared Error: {rmse:.2f}\")\n",
    "\n",
    "r2=r2_score(y_test, y_predict)\n",
    "\n",
    "print(f\"R-squared: {r2:.2f}\")"
   ]
  },
  {
   "cell_type": "code",
   "execution_count": null,
   "id": "8e210555-d4a5-42d7-a5fd-b044d93efaf5",
   "metadata": {},
   "outputs": [],
   "source": []
  }
 ],
 "metadata": {
  "kernelspec": {
   "display_name": "Python 3 (ipykernel)",
   "language": "python",
   "name": "python3"
  },
  "language_info": {
   "codemirror_mode": {
    "name": "ipython",
    "version": 3
   },
   "file_extension": ".py",
   "mimetype": "text/x-python",
   "name": "python",
   "nbconvert_exporter": "python",
   "pygments_lexer": "ipython3",
   "version": "3.12.4"
  }
 },
 "nbformat": 4,
 "nbformat_minor": 5
}
